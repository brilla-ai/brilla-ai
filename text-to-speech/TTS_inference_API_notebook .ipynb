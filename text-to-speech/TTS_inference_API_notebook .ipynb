{
  "nbformat": 4,
  "nbformat_minor": 0,
  "metadata": {
    "colab": {
      "provenance": [],
      "gpuType": "T4"
    },
    "kernelspec": {
      "name": "python3",
      "display_name": "Python 3"
    },
    "language_info": {
      "name": "python"
    }
  },
  "cells": [
    {
      "cell_type": "code",
      "execution_count": null,
      "metadata": {
        "id": "9wbQNBYDMrv2"
      },
      "outputs": [],
      "source": [
        "%%capture\n",
        "#install dependencies and libraries\n",
        "! pip install TTS\n",
        "!sudo apt-get install espeak-ng\n",
        "!pip install fastapi uvicorn pydantic pyngrok nest_asyncio\n",
        "!pip install python-multipart\n",
        "import subprocess\n",
        "from fastapi import FastAPI,Response\n",
        "from fastapi.middleware.cors import CORSMiddleware\n",
        "from fastapi.responses import JSONResponse\n",
        "from fastapi.responses import StreamingResponse,FileResponse\n",
        "from pydantic import BaseModel\n",
        "from IPython.display import Audio\n",
        "import uvicorn\n",
        "import shutil\n",
        "import nest_asyncio\n",
        "from pyngrok import ngrok\n",
        "import base64\n",
        "import tempfile\n",
        "\n",
        "nest_asyncio.apply()"
      ]
    },
    {
      "cell_type": "code",
      "source": [
        "# ! tts --list_models #run to see available models\n",
        "model=\"tts_models/en/ljspeech/glow-tts\" #replace model with the model of your choice"
      ],
      "metadata": {
        "id": "TEWy55CuTsC8"
      },
      "execution_count": null,
      "outputs": []
    },
    {
      "cell_type": "code",
      "source": [
        "def tts_call(text: str, model: str=model):\n",
        "  # Create a temporary file to save the output audio\n",
        "  with tempfile.NamedTemporaryFile(suffix=\".wav\", delete=False) as temp_file:\n",
        "    out_path = temp_file.name\n",
        "\n",
        "  # Run the TTS command\n",
        "  subprocess.run([\"tts\", \"--model_name\", model, \"--text\", text, \"--out_path\", out_path])\n",
        "\n",
        "  # Return the path to the saved audio file\n",
        "  return out_path"
      ],
      "metadata": {
        "id": "9hP6rwEbN1uz"
      },
      "execution_count": null,
      "outputs": []
    },
    {
      "cell_type": "code",
      "source": [
        "app = FastAPI()\n",
        "app.add_middleware(\n",
        "    CORSMiddleware,\n",
        "    allow_origins=['*'],\n",
        "    allow_credentials=True,\n",
        "    allow_methods=['*'],\n",
        "    allow_headers=['*'],\n",
        ")"
      ],
      "metadata": {
        "id": "XOQw6YSsNV5e"
      },
      "execution_count": null,
      "outputs": []
    },
    {
      "cell_type": "code",
      "source": [
        "class TextRequest(BaseModel):\n",
        "    text: str\n",
        "\n",
        "class OutputText(BaseModel):\n",
        "  answer: str"
      ],
      "metadata": {
        "id": "okc52MET8GZp"
      },
      "execution_count": null,
      "outputs": []
    },
    {
      "cell_type": "code",
      "source": [
        "@app.get(\"/synthesize_audios\")\n",
        "def synthesize_audio(payload: TextRequest):\n",
        "    # Call your TTS function to generate the audio file\n",
        "    print(\"text:\", payload.text)\n",
        "    audio_file_path = tts_call(payload.text)\n",
        "\n",
        "    # Return the audio file as the response\n",
        "    return FileResponse(audio_file_path, media_type=\"audio/wav\")\n",
        "\n",
        "@app.get(\"/\", response_model=OutputText)\n",
        "async def root():\n",
        "    return {\"answer\": \"Hello from TTS\"}"
      ],
      "metadata": {
        "id": "xbHL2ZCNNYu3"
      },
      "execution_count": null,
      "outputs": []
    },
    {
      "cell_type": "code",
      "source": [
        "# Replace comment section of code with your ngrok auth token\n",
        "!ngrok config add-authtoken #place your access token here"
      ],
      "metadata": {
        "colab": {
          "base_uri": "https://localhost:8080/"
        },
        "id": "_UNhl1fZNbqO",
        "outputId": "85c122d6-2db2-4329-db9f-254de4c3d0c6"
      },
      "execution_count": null,
      "outputs": [
        {
          "output_type": "stream",
          "name": "stdout",
          "text": [
            "Authtoken saved to configuration file: /root/.ngrok2/ngrok.yml\n"
          ]
        }
      ]
    },
    {
      "cell_type": "code",
      "source": [
        "ngrok_tunnel = ngrok.connect(8000)\n",
        "print(\"Public URL:\", ngrok_tunnel.public_url)\n",
        "uvicorn.run(app, port=8000)"
      ],
      "metadata": {
        "id": "8c-kkPDsNeVN"
      },
      "execution_count": null,
      "outputs": []
    }
  ]
}
