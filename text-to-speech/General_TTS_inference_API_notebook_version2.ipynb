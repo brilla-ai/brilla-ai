{
  "nbformat": 4,
  "nbformat_minor": 0,
  "metadata": {
    "colab": {
      "provenance": [],
      "gpuType": "T4"
    },
    "kernelspec": {
      "name": "python3",
      "display_name": "Python 3"
    },
    "language_info": {
      "name": "python"
    }
  },
  "cells": [
    {
      "cell_type": "code",
      "source": [
        "#install dependencies and libraries\n",
        "%%bash\n",
        "pip install TTS\n",
        "pip install onnx\n",
        "pip install onnxruntime\n",
        "sudo apt-get install espeak-ng\n",
        "pip install fastapi uvicorn pydantic pyngrok nest_asyncio\n",
        "pip install python-multipart"
      ],
      "metadata": {
        "id": "4c3G-2s8-LXE"
      },
      "execution_count": null,
      "outputs": []
    },
    {
      "cell_type": "code",
      "execution_count": 1,
      "metadata": {
        "id": "9wbQNBYDMrv2"
      },
      "outputs": [],
      "source": [
        "from fastapi import FastAPI,Response\n",
        "from fastapi.middleware.cors import CORSMiddleware\n",
        "from fastapi.responses import FileResponse\n",
        "from pydantic import BaseModel\n",
        "from IPython.display import Audio\n",
        "import uvicorn\n",
        "import nest_asyncio\n",
        "from pyngrok import ngrok\n",
        "import base64\n",
        "import tempfile\n",
        "import torch\n",
        "import torch.nn as nn\n",
        "import numpy as np\n",
        "from TTS.tts.configs.vits_config import VitsConfig\n",
        "from TTS.tts.models.vits import Vits\n",
        "from TTS.utils.audio.numpy_transforms import save_wav\n",
        "\n",
        "nest_asyncio.apply()\n",
        "from google.colab import userdata",
        
      ]
    },
    {
      "cell_type": "code",
      "source": [
        "#download the model and config file\n",
        "!gdown 'https://drive.google.com/uc?id=1HmvdYfUYOKybF7B9_hjnvSKgVPH-LJFz' -O '/content/'\n",
        "!gdown \"https://drive.google.com/uc?id=1dCt9uGXPgOj41HcpnaSbwOT6b-KaOOOA\" -O '/content/'"
      ],
      "metadata": {
        "id": "ow1mov-PhZmN"
      },
      "execution_count": null,
      "outputs": []
    },
    {
      "cell_type": "code",
      "source": [
        "config_path=\"/content/vits_model/tts_models--en--ljspeech--vits/config.json\"\n",
        "model_path=\"/content/coqui_vits.onnx\"\n",
        "config = VitsConfig()\n",
        "config.load_json(config_path)\n",
        "vits = Vits.init_from_config(config)\n",
        "vits.load_onnx(model_path)"
      ],
      "metadata": {
        "id": "WAK5RnRToUYe"
      },
      "execution_count": null,
      "outputs": []
    },
    {
      "cell_type": "code",
      "source": [
        "def tts_call(text:str):\n",
        "  text_inputs = np.asarray(\n",
        "      vits.tokenizer.text_to_ids(text, language=\"en\"),\n",
        "      dtype=np.int64,\n",
        "  )[None, :]\n",
        "  audio = vits.inference_onnx(text_inputs)\n",
        "  with tempfile.NamedTemporaryFile(suffix=\".wav\", delete=False) as temp_file:\n",
        "    out_path = temp_file.name\n",
        "  save_wav(wav=audio[0], path=out_path,sample_rate=22050)\n",
        "  return out_path"
      ],
      "metadata": {
        "id": "9uJ8N1JojC91"
      },
      "execution_count": 24,
      "outputs": []
    },
    {
      "cell_type": "code",
      "source": [
        "app = FastAPI()\n",
        "app.add_middleware(\n",
        "    CORSMiddleware,\n",
        "    allow_origins=['*'],\n",
        "    allow_credentials=True,\n",
        "    allow_methods=['*'],\n",
        "    allow_headers=['*'],\n",
        ")"
      ],
      "metadata": {
        "id": "XOQw6YSsNV5e"
      },
      "execution_count": 25,
      "outputs": []
    },
    {
      "cell_type": "code",
      "source": [
        "class TextRequest(BaseModel):\n",
        "    text: str\n",
        "\n",
        "class OutputText(BaseModel):\n",
        "  answer: str"
      ],
      "metadata": {
        "id": "okc52MET8GZp"
      },
      "execution_count": 26,
      "outputs": []
    },
    {
      "cell_type": "code",
      "source": [
        "@app.get(\"/synthesize_audios\")\n",
        "def synthesize_audio(payload: TextRequest):\n",
        "    # Call your TTS function to generate the audio file\n",
        "    audio_file_path = tts_call(payload.text)\n",
        "    # Return the audio file as the response\n",
        "    return FileResponse(audio_file_path, media_type=\"audio/wav\")\n",
        "\n",
        "@app.get(\"/\", response_model=OutputText)\n",
        "async def root():\n",
        "    return {\"answer\": \"Hello from TTS\"}"
      ],
      "metadata": {
        "id": "xbHL2ZCNNYu3"
      },
      "execution_count": 27,
      "outputs": []
    },
    {
      "cell_type": "code",
      "source": [
        "token=userdata.get('ngrok_token')\n",
        "!ngrok config add-authtoken token"
      ],
      "metadata": {
        "id": "_UNhl1fZNbqO"
      },
      "execution_count": null,
      "outputs": []
    },
    {
      "cell_type": "code",
      "source": [
        "ngrok_tunnel = ngrok.connect(8000)\n",
        "print(\"Public URL:\", ngrok_tunnel.public_url)\n",
        "uvicorn.run(app, port=8000)"
      ],
      "metadata": {
        "id": "8c-kkPDsNeVN"
      },
      "execution_count": null,
      "outputs": []
    }
  ]
}
