{
  "cells": [
    {
      "cell_type": "code",
      "execution_count": null,
      "metadata": {
        "id": "4c3G-2s8-LXE"
      },
      "outputs": [],
      "source": [
        "#install dependencies and libraries\n",
        "%%bash\n",
        "pip install TTS\n",
        "pip install onnx\n",
        "pip install onnxruntime\n",
        "sudo apt-get install espeak-ng\n",
        "pip install fastapi uvicorn pydantic pyngrok nest_asyncio\n",
        "pip install python-multipart"
      ]
    },
    {
      "cell_type": "code",
      "execution_count": 1,
      "metadata": {
        "id": "9wbQNBYDMrv2"
      },
      "outputs": [],
      "source": [
        "from fastapi import FastAPI\n",
        "from fastapi.middleware.cors import CORSMiddleware\n",
        "from fastapi.responses import FileResponse\n",
        "from pydantic import BaseModel\n",
        "import uvicorn\n",
        "import nest_asyncio\n",
        "from pyngrok import ngrok\n",
        "import tempfile\n",
        "import numpy as np\n",
        "from TTS.tts.configs.vits_config import VitsConfig\n",
        "from TTS.tts.models.vits import Vits\n",
        "from TTS.utils.audio.numpy_transforms import save_wav\n",
        "from google.colab import userdata\n",
        "\n",
        "nest_asyncio.apply()\n",
        "\n"
      ]
    },
    {
      "cell_type": "code",
      "execution_count": null,
      "metadata": {
        "id": "ow1mov-PhZmN"
      },
      "outputs": [],
      "source": [
        "#download the model and config file\n",
        "!gdown 'https://drive.google.com/uc?id=1HmvdYfUYOKybF7B9_hjnvSKgVPH-LJFz' -O '/content/'\n",
        "!gdown \"https://drive.google.com/uc?id=1dCt9uGXPgOj41HcpnaSbwOT6b-KaOOOA\" -O '/content/'"
      ]
    },
    {
      "cell_type": "code",
      "execution_count": null,
      "metadata": {
        "id": "WAK5RnRToUYe"
      },
      "outputs": [],
      "source": [
        "config_path=\"/content/config.json\"\n",
        "model_path=\"/content/coqui_vits.onnx\"\n",
        "config = VitsConfig()\n",
        "config.load_json(config_path)\n",
        "vits = Vits.init_from_config(config)\n",
        "vits.load_onnx(model_path)"
      ]
    },
    {
      "cell_type": "code",
      "execution_count": 24,
      "metadata": {
        "id": "9uJ8N1JojC91"
      },
      "outputs": [],
      "source": [
        "def tts_call(text:str):\n",
        "  text_inputs = np.asarray(\n",
        "      vits.tokenizer.text_to_ids(text, language=\"en\"),\n",
        "      dtype=np.int64,\n",
        "  )[None, :]\n",
        "  audio = vits.inference_onnx(text_inputs)\n",
        "  with tempfile.NamedTemporaryFile(suffix=\".wav\", delete=False) as temp_file:\n",
        "    out_path = temp_file.name\n",
        "  save_wav(wav=audio[0], path=out_path,sample_rate=22050)\n",
        "  return out_path"
      ]
    },
    {
      "cell_type": "code",
      "execution_count": 25,
      "metadata": {
        "id": "XOQw6YSsNV5e"
      },
      "outputs": [],
      "source": [
        "app = FastAPI()\n",
        "app.add_middleware(\n",
        "    CORSMiddleware,\n",
        "    allow_origins=['*'],\n",
        "    allow_credentials=True,\n",
        "    allow_methods=['*'],\n",
        "    allow_headers=['*'],\n",
        ")"
      ]
    },
    {
      "cell_type": "code",
      "execution_count": 26,
      "metadata": {
        "id": "okc52MET8GZp"
      },
      "outputs": [],
      "source": [
        "class TextRequest(BaseModel):\n",
        "    text: str\n",
        "\n",
        "class OutputText(BaseModel):\n",
        "  answer: str"
      ]
    },
    {
      "cell_type": "code",
      "execution_count": 27,
      "metadata": {
        "id": "xbHL2ZCNNYu3"
      },
      "outputs": [],
      "source": [
        "@app.get(\"/synthesize_audios\")\n",
        "def synthesize_audio(payload: TextRequest):\n",
        "    # Call your TTS function to generate the audio file\n",
        "    audio_file_path = tts_call(payload.text)\n",
        "    # Return the audio file as the response\n",
        "    return FileResponse(audio_file_path, media_type=\"audio/wav\")\n",
        "\n",
        "@app.get(\"/\", response_model=OutputText)\n",
        "async def root():\n",
        "    return {\"answer\": \"Hello from TTS\"}"
      ]
    },
    {
      "cell_type": "code",
      "execution_count": null,
      "metadata": {
        "id": "_UNhl1fZNbqO"
      },
      "outputs": [],
      "source": [
        "NGROK_TOKEN=userdata.get('NGROK_TOKEN')\n",
        "!ngrok config add-authtoken {NGROK_TOKEN}"
      ]
    },
    {
      "cell_type": "code",
      "execution_count": null,
      "metadata": {
        "id": "8c-kkPDsNeVN"
      },
      "outputs": [],
      "source": [
        "ngrok_tunnel = ngrok.connect(8000)\n",
        "print(\"Public URL:\", ngrok_tunnel.public_url)\n",
        "uvicorn.run(app, port=8000)"
      ]
    }
  ],
  "metadata": {
    "colab": {
      "gpuType": "T4",
      "provenance": []
    },
    "kernelspec": {
      "display_name": "Python 3",
      "name": "python3"
    },
    "language_info": {
      "name": "python"
    }
  },
  "nbformat": 4,
  "nbformat_minor": 0
}
